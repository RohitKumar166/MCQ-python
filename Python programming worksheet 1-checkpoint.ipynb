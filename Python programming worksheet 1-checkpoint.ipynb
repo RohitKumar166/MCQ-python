{
 "cells": [
  {
   "cell_type": "markdown",
   "id": "ae1347f7",
   "metadata": {},
   "source": [
    "This Python Program finds the factorial of a number"
   ]
  },
  {
   "cell_type": "code",
   "execution_count": 13,
   "id": "b8f2081e",
   "metadata": {},
   "outputs": [
    {
     "name": "stdout",
     "output_type": "stream",
     "text": [
      "Enter the number\n",
      "4\n",
      "The factorial of 4 is 24\n"
     ]
    }
   ],
   "source": [
    "\n",
    "    print(\"Enter the number\")\n",
    "    num = int(input())\n",
    "    factorial =1\n",
    "    \n",
    "    if(num<0):\n",
    "        print(\"Error: Factorial of a negative number is not defined\")\n",
    "        \n",
    "    elif(num==0):\n",
    "        print(1)\n",
    "        \n",
    "    else:\n",
    "        for i in range(1, num+1):\n",
    "            factorial = factorial*i\n",
    "        print(\"The factorial of\",num , \"is\",factorial)    "
   ]
  },
  {
   "cell_type": "markdown",
   "id": "3d571e85",
   "metadata": {},
   "source": []
  },
  {
   "cell_type": "markdown",
   "id": "35c4c508",
   "metadata": {},
   "source": [
    "This python program find whether a number prime or composite"
   ]
  },
  {
   "cell_type": "code",
   "execution_count": 39,
   "id": "e8e641b5",
   "metadata": {},
   "outputs": [
    {
     "name": "stdout",
     "output_type": "stream",
     "text": [
      "Enter the number:6\n",
      "Its a Composite number:\n"
     ]
    }
   ],
   "source": [
    "num=int(input(\"Enter the number:\"))\n",
    "count=0\n",
    "i=1\n",
    "while i<=num:\n",
    "    if num%i==0:\n",
    "        count=count+1\n",
    "    i=i+1\n",
    "if count==2:\n",
    "    print(\"Its a Prime number:\")\n",
    "elif count>2:\n",
    "    print(\"Its a Composite number:\")\n",
    "else:\n",
    "    print(\"The number is neither Prime nor Composite\")"
   ]
  },
  {
   "cell_type": "markdown",
   "id": "77b97b63",
   "metadata": {},
   "source": []
  },
  {
   "cell_type": "markdown",
   "id": "4ebd4290",
   "metadata": {},
   "source": [
    "This python programm whether a given string is palindrome or not."
   ]
  },
  {
   "cell_type": "code",
   "execution_count": 2,
   "id": "0ee16dd9",
   "metadata": {},
   "outputs": [
    {
     "name": "stdout",
     "output_type": "stream",
     "text": [
      "Enter the number\n",
      "123\n",
      "Number is not a palindrome\n"
     ]
    }
   ],
   "source": [
    "print(\"Enter the number\")\n",
    "number = int(input())\n",
    "temp= number\n",
    "reverse =0\n",
    "\n",
    "while(number>0):\n",
    "    dig = number%10\n",
    "    reverse = reverse * 10 + dig\n",
    "    number = number//10\n",
    "    \n",
    "if temp==reverse:\n",
    "    print(\"Number is a palindrome\")\n",
    "else:\n",
    "    print(\"Number is not a palindrome\")"
   ]
  },
  {
   "cell_type": "markdown",
   "id": "58ac651e",
   "metadata": {},
   "source": []
  },
  {
   "cell_type": "markdown",
   "id": "7ec9f066",
   "metadata": {},
   "source": [
    "This python program to get the third side of right-angled triangle from two given sides."
   ]
  },
  {
   "cell_type": "code",
   "execution_count": 3,
   "id": "f80d2fa8",
   "metadata": {},
   "outputs": [
    {
     "name": "stdout",
     "output_type": "stream",
     "text": [
      "Hypotenuse = 5.0\n",
      "Adjacent = 4.0\n",
      "Opposite = 3.0\n",
      "You know the answer!\n"
     ]
    }
   ],
   "source": [
    " def pythagoras(opposite_side,adjacent_side,hypotenuse):\n",
    "        if opposite_side == str(\"x\"):\n",
    "            return (\"Opposite = \" + str(((hypotenuse**2) - (adjacent_side**2))**0.5))\n",
    "        elif adjacent_side == str(\"x\"):\n",
    "            return (\"Adjacent = \" + str(((hypotenuse**2) - (opposite_side**2))**0.5))\n",
    "        elif hypotenuse == str(\"x\"):\n",
    "            return (\"Hypotenuse = \" + str(((opposite_side**2) + (adjacent_side**2))**0.5))\n",
    "        else:\n",
    "            return \"You know the answer!\"\n",
    "    \n",
    "print(pythagoras(3,4,'x'))\n",
    "print(pythagoras(3,'x',5))\n",
    "print(pythagoras('x',4,5))\n",
    "print(pythagoras(3,4,5))"
   ]
  },
  {
   "cell_type": "markdown",
   "id": "df051ecb",
   "metadata": {},
   "source": []
  },
  {
   "cell_type": "markdown",
   "id": "e0a8cdf8",
   "metadata": {},
   "source": [
    "This python program to print the frequency of each of the characters present in a given string."
   ]
  },
  {
   "cell_type": "code",
   "execution_count": 21,
   "id": "3294e163",
   "metadata": {},
   "outputs": [
    {
     "name": "stdout",
     "output_type": "stream",
     "text": [
      "Enter any String hello how are you\n",
      "Enter search Character o\n",
      "Number of time Found=  3\n"
     ]
    }
   ],
   "source": [
    "na = input(\"Enter any String \")\n",
    "ch = input(\"Enter search Character \")\n",
    "f = 0\n",
    "for i in na:\n",
    "    if i == ch:\n",
    "        f=f+1\n",
    "print(\"Number of time Found= \",f)\n",
    "        "
   ]
  },
  {
   "cell_type": "code",
   "execution_count": null,
   "id": "e853ac86",
   "metadata": {},
   "outputs": [],
   "source": []
  },
  {
   "cell_type": "code",
   "execution_count": null,
   "id": "428c3a6c",
   "metadata": {},
   "outputs": [],
   "source": []
  },
  {
   "cell_type": "code",
   "execution_count": null,
   "id": "3897d9af",
   "metadata": {},
   "outputs": [],
   "source": []
  },
  {
   "cell_type": "code",
   "execution_count": null,
   "id": "037e44e8",
   "metadata": {},
   "outputs": [],
   "source": []
  },
  {
   "cell_type": "code",
   "execution_count": null,
   "id": "c69e2d25",
   "metadata": {},
   "outputs": [],
   "source": []
  },
  {
   "cell_type": "code",
   "execution_count": null,
   "id": "b40c3285",
   "metadata": {},
   "outputs": [],
   "source": []
  },
  {
   "cell_type": "code",
   "execution_count": null,
   "id": "f13c6e60",
   "metadata": {},
   "outputs": [],
   "source": []
  },
  {
   "cell_type": "code",
   "execution_count": null,
   "id": "1e79dc48",
   "metadata": {},
   "outputs": [],
   "source": []
  },
  {
   "cell_type": "code",
   "execution_count": null,
   "id": "efb6773f",
   "metadata": {},
   "outputs": [],
   "source": []
  },
  {
   "cell_type": "code",
   "execution_count": null,
   "id": "1d6d9253",
   "metadata": {},
   "outputs": [],
   "source": []
  },
  {
   "cell_type": "code",
   "execution_count": null,
   "id": "30d6e882",
   "metadata": {},
   "outputs": [],
   "source": []
  }
 ],
 "metadata": {
  "kernelspec": {
   "display_name": "Python 3",
   "language": "python",
   "name": "python3"
  },
  "language_info": {
   "codemirror_mode": {
    "name": "ipython",
    "version": 3
   },
   "file_extension": ".py",
   "mimetype": "text/x-python",
   "name": "python",
   "nbconvert_exporter": "python",
   "pygments_lexer": "ipython3",
   "version": "3.8.8"
  }
 },
 "nbformat": 4,
 "nbformat_minor": 5
}
